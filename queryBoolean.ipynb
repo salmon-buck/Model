{
 "cells": [
  {
   "cell_type": "code",
   "execution_count": 5,
   "metadata": {
    "scrolled": true
   },
   "outputs": [
    {
     "name": "stdout",
     "output_type": "stream",
     "text": [
      "warm chicken with onion\n",
      "['chicken', 'onion']\n"
     ]
    }
   ],
   "source": [
    "from readDB import *\n",
    "from preProcessing import preProcessing\n",
    "from nltk.tag import pos_tag\n",
    "from nltk.tokenize import word_tokenize\n",
    "from nltk.stem import WordNetLemmatizer\n",
    "from collections import defaultdict\n",
    "import operator\n",
    "\n",
    "\n",
    "def fn_nvarFilt(poses, nvar):\n",
    "    nvjr = list(nvar)\n",
    "    ja = lambda tag: tag if tag != 'j' else 'a'\n",
    "    nvars = [(p0, ja(p1[:1].lower())) for p0, p1 in poses if p1[:1] in nvjr]\n",
    "    lemmatizer = WordNetLemmatizer()\n",
    "    return [lemmatizer.lemmatize(nvar[0], pos=nvar[1]) for nvar in nvars]\n",
    "\n",
    "def FindN(query):\n",
    "    tokens = word_tokenize(query.lower())\n",
    "    poses = pos_tag(tokens)\n",
    "    nltk_res = fn_nvarFilt(poses, 'N')\n",
    "    nltk_freq = defaultdict(int)\n",
    "    for token in nltk_res:\n",
    "        nltk_freq[token] += 1\n",
    "    return nltk_res\n",
    "\n",
    "# FindN 을 사용하여 쿼리에서 명사를 추출하여 Boolean에 사용\n",
    "\n",
    "q=input() #쿼리 입력 ex) warm chicken with onion\n",
    "\n",
    "candidate=FindN(q)   # candidate = [chicken,onion]\n",
    "print(candidate)\n"
   ]
  },
  {
   "cell_type": "code",
   "execution_count": 26,
   "metadata": {},
   "outputs": [
    {
     "name": "stdout",
     "output_type": "stream",
     "text": [
      "['Korean Curry', 'Asian Style Nachos', 'Sesame Chicken Potstickers', 'Slow Cooker Corn Chowder', 'Instant Pot Mushroom Risotto']\n",
      "[['Korean Curry', 0.09090909090909091], ['Asian Style Nachos', 0.058823529411764705], ['Sesame Chicken Potstickers', 0.05405405405405406], ['Slow Cooker Corn Chowder', 0.05], ['Instant Pot Mushroom Risotto', 0.04878048780487805]]\n"
     ]
    }
   ],
   "source": [
    "def boolean_Ingredient(q_ing, db_ing) :\n",
    "    ranked = []\n",
    "    lg =[]\n",
    "    for food in db.keys():\n",
    "        flag = 0\n",
    "        s = db[food]['ingredient']\n",
    "        for qu in (q_ing):\n",
    "            if qu not in s:\n",
    "                break;\n",
    "            else:\n",
    "                flag += 1 \n",
    "        if flag == len(q_ing):\n",
    "            querylen =len(q_ing)\n",
    "            inglen=len(s.split(' '))\n",
    "            rank_value = querylen/inglen\n",
    "            lg.append([food, rank_value])\n",
    "    \n",
    "    lg =sorted(lg, key=operator.itemgetter(1))\n",
    "    for i in range(5):\n",
    "        if (len(lg)-i-1) == -1:\n",
    "            break;\n",
    "        \n",
    "        ranked.append(lg[len(lg)-1-i][0])\n",
    "        \n",
    "    return ranked\n",
    "\n",
    "def boolean_Ingredient_weight(q_ing, db_ing) :\n",
    "    ranked_with_weight = []\n",
    "    lg =[]\n",
    "    for food in db.keys():\n",
    "        flag = 0\n",
    "        s = db[food]['ingredient']\n",
    "        for qu in (q_ing):\n",
    "            if qu not in s:\n",
    "                break;\n",
    "            else:\n",
    "                flag += 1 \n",
    "        if flag == len(q_ing):\n",
    "            querylen =len(q_ing)\n",
    "            inglen=len(s.split(' '))\n",
    "            rank_value = querylen/inglen\n",
    "            lg.append([food, rank_value])\n",
    "    \n",
    "    lg =sorted(lg, key=operator.itemgetter(1))\n",
    "    for i in range(5):\n",
    "        if (len(lg)-i-1) == -1:\n",
    "            break;\n",
    "        ranked_with_weight.append(lg[len(lg)-i-1])\n",
    "        \n",
    "    return ranked_with_weight\n",
    "\n",
    "data = boolean_Ingredient(candidate, db)\n",
    "data_weight = boolean_Ingredient_weight(candidate, db) # data에는 chicken과 onion이 포함된 커리만 출력됨 - ranking을 통해 5위까지 출력\n",
    "print(data)\n",
    "print(data_weight)"
   ]
  }
 ],
 "metadata": {
  "kernelspec": {
   "display_name": "Python 3",
   "language": "python",
   "name": "python3"
  },
  "language_info": {
   "codemirror_mode": {
    "name": "ipython",
    "version": 3
   },
   "file_extension": ".py",
   "mimetype": "text/x-python",
   "name": "python",
   "nbconvert_exporter": "python",
   "pygments_lexer": "ipython3",
   "version": "3.7.3"
  }
 },
 "nbformat": 4,
 "nbformat_minor": 2
}
