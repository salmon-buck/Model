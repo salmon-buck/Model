{
 "cells": [
  {
   "cell_type": "code",
   "execution_count": 1,
   "metadata": {},
   "outputs": [
    {
     "name": "stdout",
     "output_type": "stream",
     "text": [
      "검색 입력 : chicken salad\n",
      "[['chicken'], ['salad']]\n",
      "[['chicken', 'salad'], ['chicken', 'salad'], ['chicken', 'salad'], ['chicken', 'salad'], ['chicken', 'salad'], ['chicken', 'salad'], ['chicken', 'salad'], ['chicken', 'salad'], ['chicken', 'salad'], ['chicken', 'salad']]\n",
      "1. Caprese Avocado Salad :0.00037444140406389176\n",
      "2. Chinese Chicken Salad :0.0003234403434084026\n",
      "3. Asian-Style Cobb Salad :0.00023518360844150066\n",
      "4. Asian Quinoa salad :3.238579794166246e-05\n",
      "5. Best Ever Classic Macaroni Salad :2.4746705144735967e-05\n",
      "\n"
     ]
    }
   ],
   "source": [
    "import numpy as np\n",
    "from match import * \n",
    "\n",
    "def dcg_at_k(r, k, method=0):\n",
    "    r = np.asfarray(r)[:k]\n",
    "    if r.size:\n",
    "        if method == 0:\n",
    "            return r[0] + np.sum(r[1:] / np.log2(np.arange(2, r.size + 1)))\n",
    "        elif method == 1:\n",
    "            return np.sum(r / np.log2(np.arange(2, r.size + 2)))\n",
    "        else:\n",
    "            raise ValueError('method must be 0 or 1.')\n",
    "    return 0\n",
    "\n",
    "def ndcg_at_k(r, k, method=0):\n",
    "    dcg_max = dcg_at_k(sorted(r, reverse=True), k, method)\n",
    "    if not dcg_max:\n",
    "        return 0.\n",
    "    return dcg_at_k(r, k, method) / dcg_max\n",
    "\n",
    "def find_rel(answer, query, answer_rel):\n",
    "    rels = np.zeros((len(query)))\n",
    "    for i in range(len(query)):\n",
    "        if query[i] in answer:\n",
    "            index = answer.index(query[i])\n",
    "            rels[i] = answer_rel[index]\n",
    "    \n",
    "    return rels"
   ]
  },
  {
   "cell_type": "code",
   "execution_count": 2,
   "metadata": {},
   "outputs": [],
   "source": [
    "answerSet = {'warm soup' : ['Thai Green Curry Chicken Soup', 'Thai Red Curry Soup', 'Coconut Curry Chicken Soup', 'Miso Soup With Vermicelli, Mushrooms And Tofu', 'Thai Red Curry Noddle Soup'],\n",
    "            'spicy thai chicken' : ['Thai Red Curry Noodle Soup', 'Thai Basil Chicken Bowls', 'Thai Chicken Buddha Bowls', 'Thai Red Curry Soup', 'Thai Coconut Curry Chicken'], \n",
    "            'cold noodle' : ['ZARU SOBA', 'Tofu Soba Noodles', 'Tofu soba noodles', 'Asian Garlic Noodles', 'Korean Beef Zucchini Noodles'],\n",
    "            'chicken salad' : ['Caprese Avocado Salad', 'Chinese Chicken Salad', 'Asian-Style Cobb Salad', 'Asian Quinoa salad', 'Best Ever Classic Macaroni Salad']}\n",
    "\n",
    "relSet = {'warm soup' : [1, 2, 1, 3, 3],\n",
    "            'spicy thai chicken' : [3, 1, 1, 2, 1], \n",
    "            'cold noodle' : [3, 3, 3, 2, 1],\n",
    "            'chicken salad' : [1, 3, 1, 1, 1]}\n"
   ]
  },
  {
   "cell_type": "code",
   "execution_count": 3,
   "metadata": {},
   "outputs": [
    {
     "name": "stdout",
     "output_type": "stream",
     "text": [
      "['Caprese Avocado Salad', 'Chinese Chicken Salad', 'Asian-Style Cobb Salad', 'Asian Quinoa salad', 'Best Ever Classic Macaroni Salad']\n"
     ]
    }
   ],
   "source": [
    "r = 5\n",
    "cnts = 1\n",
    "tmpResult = []\n",
    "\n",
    "for (doc, sim) in avgResult :\n",
    "    tmpResult.append(doc)\n",
    "    if cnts>=r :\n",
    "        break\n",
    "    cnts += 1\n",
    "\n",
    "print(tmpResult)"
   ]
  },
  {
   "cell_type": "code",
   "execution_count": 4,
   "metadata": {},
   "outputs": [
    {
     "name": "stdout",
     "output_type": "stream",
     "text": [
      "0.850834274847108\n"
     ]
    }
   ],
   "source": [
    "rel = find_rel(answerSet[q_origin], tmpResult, relSet[q_origin])\n",
    "print(ndcg_at_k(rel, 5, 1))"
   ]
  }
 ],
 "metadata": {
  "kernelspec": {
   "display_name": "Python 3",
   "language": "python",
   "name": "python3"
  },
  "language_info": {
   "codemirror_mode": {
    "name": "ipython",
    "version": 3
   },
   "file_extension": ".py",
   "mimetype": "text/x-python",
   "name": "python",
   "nbconvert_exporter": "python",
   "pygments_lexer": "ipython3",
   "version": "3.6.5"
  }
 },
 "nbformat": 4,
 "nbformat_minor": 2
}
