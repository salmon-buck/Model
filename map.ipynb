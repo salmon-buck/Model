{
 "cells": [
  {
   "cell_type": "code",
   "execution_count": 7,
   "metadata": {},
   "outputs": [],
   "source": [
    "import numpy as np\n",
    "from sklearn.metrics import average_precision_score"
   ]
  },
  {
   "cell_type": "code",
   "execution_count": 47,
   "metadata": {},
   "outputs": [],
   "source": [
    "# query\n",
    "def mAP(query, answer):\n",
    "    #truth = np.zeros((5))\n",
    "    count = 0\n",
    "    acc_num = 0\n",
    "    ap = 0\n",
    "    \n",
    "    for i in range(5):\n",
    "        count += 1 \n",
    "        if query[i] in answer:\n",
    "            acc_num += 1\n",
    "            #truth[query.index(answer[i])] = 1\n",
    "            ap += acc_num / count\n",
    "    \n",
    "    ap /= 5\n",
    "#     score = [1,1,1,1,1]\n",
    "#     ap = average_precision_score(truth, score)\n",
    "    return ap"
   ]
  },
  {
   "cell_type": "code",
   "execution_count": 48,
   "metadata": {},
   "outputs": [
    {
     "name": "stdout",
     "output_type": "stream",
     "text": [
      "1.0\n",
      "2.0\n",
      "2.75\n",
      "3.55\n"
     ]
    },
    {
     "data": {
      "text/plain": [
       "0.71"
      ]
     },
     "execution_count": 48,
     "metadata": {},
     "output_type": "execute_result"
    }
   ],
   "source": [
    "answer = ['Korean Curry', 'Asian Style Nachos', 'Sesame Chicken Potstickers', 'Slow Cooker Corn Chowder', 'Instant Pot Mushroom Risotto']\n",
    "query = ['Korean Curry', 'Sesame Chicken Potstickers', 'Easy Chicken Tikka Masala', 'Asian Style Nachos', 'Instant Pot Mushroom Risotto']\n",
    "\n",
    "mAP(query, answer)\n",
    "\n",
    "#['Sema Chicken', 'Garlic Ginger Chicken Potstickers', 'Sesame Chicken Potstickers', 'Asian-Style Cobb Salad', 'Coconut Curry Chicken Soup', 'Asian Style Chicken Nuggets With Lemon Glaze', 'Sweet And Sour Stir-Fried Chicken', 'Chinese Orange Chicken', 'Chinese Chicken Salad', 'Chinese Beef with Broccoli', 'Slow Cooker Indian Butter Chicken', 'Easy Chicken Tikka Masala', 'Instant Pot Mushroom Risotto', 'Italian Wedding Soup', 'Mushroom Ramen', 'Asian Style Nachos', 'Korean Chicken Kabobs', 'Korean Curry', 'Instant Pot Chicken Tortilla Soup', 'Roasted Shrimp Enchiladas with Jalapeno Cream Sauce', 'Chicken Khao Soi', 'Thai Red Curry Noodle Soup', 'Thai Green Curry Chicken Soup', 'Thai Sweet Potato and Carrot Soup', 'Thai Peanut Chicken Noodles', 'Slow Cooker Corn Chowder']\n"
   ]
  }
 ],
 "metadata": {
  "kernelspec": {
   "display_name": "Python 3",
   "language": "python",
   "name": "python3"
  },
  "language_info": {
   "codemirror_mode": {
    "name": "ipython",
    "version": 3
   },
   "file_extension": ".py",
   "mimetype": "text/x-python",
   "name": "python",
   "nbconvert_exporter": "python",
   "pygments_lexer": "ipython3",
   "version": "3.7.3"
  }
 },
 "nbformat": 4,
 "nbformat_minor": 2
}
