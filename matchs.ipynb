{
 "cells": [
  {
   "cell_type": "code",
   "execution_count": 1,
   "metadata": {
    "scrolled": false
   },
   "outputs": [
    {
     "name": "stdout",
     "output_type": "stream",
     "text": [
      "검색 입력 : deep cheesy pizza with olive\n",
      "[['deep'], ['cheesi'], ['pizza'], ['oliv']]\n",
      "[['deep', 'cheesi', 'pizza', 'oliv'], ['deep', 'cheesi', 'pizza', 'oliv'], ['deep', 'cheesi', 'pizza', 'oliv'], ['deep', 'cheesi', 'pizza', 'oliv'], ['deep', 'cheesi', 'pizza', 'oliv'], ['deep', 'cheesi', 'pizza', 'oliv'], ['deep', 'cheesi', 'pizza', 'oliv'], ['deep', 'cheesi', 'pizza', 'oliv'], ['deep', 'cheesi', 'pizza', 'oliv'], ['deep', 'cheesi', 'pizza', 'oliv']]\n",
      "1. Bacon Breakfast Pizza :1.9871077913005414e-10\n",
      "2. Deep Dish Chicago Style Pizza :1.8871150447774608e-10\n",
      "3. White Mushroom Pizza :1.0688636594095354e-11\n",
      "4. Beef Enchilada Dip :8.01548673988609e-12\n",
      "5. One Pot Mexican Skillet Pasta :3.949369076986013e-12\n",
      "\n"
     ]
    },
    {
     "data": {
      "text/plain": [
       "'\\nfor i in range(len(query_list)) :\\n    print(\"<query{} : \".format(i+1), \\' \\'.join(query_list[i]), \" >\")\\n    cnt=1\\n    for (doc, sim) in totalResult[i] :\\n        print(str(cnt) + \". \" + doc + \" :\" + str(sim))\\n        if cnt>=rank :\\n            break\\n        cnt += 1\\n    print()\\n'"
      ]
     },
     "execution_count": 1,
     "metadata": {},
     "output_type": "execute_result"
    }
   ],
   "source": [
    "from synoni import *\n",
    "import operator\n",
    "alpha=50\n",
    "totalResult=[]\n",
    "t=1e-5\n",
    "rank=5\n",
    "for query in query_list :\n",
    "    result={}\n",
    "    for food in smoothing_prob.keys():\n",
    "        r=1\n",
    "        for term in query :\n",
    "            if term in smoothing_prob[food].keys() :                    # 해당요리에 있는경우\n",
    "                r *= smoothing_prob[food][term]\n",
    "            elif term in collection_prob :                              # 해당요리에 없고 전체 corpus에 존재하는경우\n",
    "                r *= (alpha*collection_prob[term]) / (len(smoothing_prob[food]) + alpha)\n",
    "            else :                                                      # 동의어까지 돌렸는데 찾을수 없는경우(오타일 경우포함)\n",
    "                r *= (alpha*t) / (len(smoothing_prob[food]) + alpha)\n",
    "        result[food]=r\n",
    "    sorted_result = sorted(result.items(), key=operator.itemgetter(1), reverse=True)\n",
    "    totalResult.append(sorted_result)\n",
    "\n",
    "avgResult=dict()\n",
    "for i in range(len(query_list)) :\n",
    "    cnt = 1\n",
    "    for (doc, sim) in totalResult[i]:\n",
    "        if doc in avgResult.keys() :\n",
    "            avgResult[doc]+=sim\n",
    "        else :\n",
    "            avgResult[doc]=sim\n",
    "\n",
    "for v in avgResult.keys() :\n",
    "    avgResult[v] /=len(query_list)\n",
    "\n",
    "avgResult = sorted(avgResult.items(), key=operator.itemgetter(1), reverse=True)\n",
    "\n",
    "cnt=1\n",
    "for (doc, sim) in avgResult :\n",
    "    print(str(cnt) + \". \" + doc + \" :\" + str(sim))\n",
    "    if cnt>=rank :\n",
    "        break\n",
    "    cnt += 1\n",
    "print()\n",
    "\n",
    "'''\n",
    "for i in range(len(query_list)) :\n",
    "    print(\"<query{} : \".format(i+1), ' '.join(query_list[i]), \" >\")\n",
    "    cnt=1\n",
    "    for (doc, sim) in totalResult[i] :\n",
    "        print(str(cnt) + \". \" + doc + \" :\" + str(sim))\n",
    "        if cnt>=rank :\n",
    "            break\n",
    "        cnt += 1\n",
    "    print()\n",
    "'''"
   ]
  }
 ],
 "metadata": {
  "kernelspec": {
   "display_name": "Python 3",
   "language": "python",
   "name": "python3"
  },
  "language_info": {
   "codemirror_mode": {
    "name": "ipython",
    "version": 3
   },
   "file_extension": ".py",
   "mimetype": "text/x-python",
   "name": "python",
   "nbconvert_exporter": "python",
   "pygments_lexer": "ipython3",
   "version": "3.7.3"
  }
 },
 "nbformat": 4,
 "nbformat_minor": 2
}
